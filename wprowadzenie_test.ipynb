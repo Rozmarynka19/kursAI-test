{
  "nbformat": 4,
  "nbformat_minor": 0,
  "metadata": {
    "colab": {
      "provenance": [],
      "toc_visible": true,
      "name": "wprowadzenie-test.ipynb",
      "authorship_tag": "ABX9TyOYqFVhUgnWfN2btu00LzQT",
      "include_colab_link": true
    },
    "kernelspec": {
      "name": "python3",
      "display_name": "Python 3"
    },
    "language_info": {
      "name": "python"
    }
  },
  "cells": [
    {
      "cell_type": "markdown",
      "metadata": {
        "id": "view-in-github",
        "colab_type": "text"
      },
      "source": [
        "<a href=\"https://colab.research.google.com/github/Rozmarynka19/kursAI-test/blob/main/wprowadzenie_test.ipynb\" target=\"_parent\"><img src=\"https://colab.research.google.com/assets/colab-badge.svg\" alt=\"Open In Colab\"/></a>"
      ]
    },
    {
      "cell_type": "markdown",
      "source": [
        "# Podstawowe elementy języka python.\n",
        "\n",
        "*W tym rozdziale przedstawimy podstawowe elementy składni języka Python*\n",
        "https://www.python.org/\n",
        "\n",
        "\n",
        "## Omawiane elementy.\n",
        "1. Zmienne\n",
        "\n",
        "\n",
        "---\n",
        "\n",
        "\n",
        "2. Listy\n",
        "\n",
        "\n",
        "---\n",
        "\n",
        "\n",
        "3. Pętle\n",
        "\n",
        "\n",
        "---\n",
        "\n",
        "\n",
        "4. Słowniki i krotki\n",
        "\n",
        "---\n",
        "\n",
        "\n",
        "5. Instrukcje warunkowe\n",
        "\n",
        "---\n",
        "\n",
        "\n",
        "6. Funkcje\n",
        "\n",
        "\n",
        "---\n",
        "\n",
        "\n",
        "7. Obsługa plików\n",
        "\n",
        "---\n",
        "\n",
        "\n",
        "8. Obsługa wyjątków\n",
        "\n",
        "---\n",
        "\n"
      ],
      "metadata": {
        "id": "jiDT45ZYI4Kl"
      }
    },
    {
      "cell_type": "markdown",
      "source": [
        "## Konfiguracja repozytorium"
      ],
      "metadata": {
        "id": "tniVr7EQSoA7"
      }
    },
    {
      "cell_type": "code",
      "execution_count": null,
      "metadata": {
        "colab": {
          "base_uri": "https://localhost:8080/"
        },
        "id": "UmgknXIXIqAP",
        "outputId": "f8aefb25-da60-4a3f-9114-ba00f463058e"
      },
      "outputs": [
        {
          "output_type": "stream",
          "name": "stdout",
          "text": [
            "\u001b[33mhint: Using 'master' as the name for the initial branch. This default branch name\u001b[m\n",
            "\u001b[33mhint: is subject to change. To configure the initial branch name to use in all\u001b[m\n",
            "\u001b[33mhint: of your new repositories, which will suppress this warning, call:\u001b[m\n",
            "\u001b[33mhint: \u001b[m\n",
            "\u001b[33mhint: \tgit config --global init.defaultBranch <name>\u001b[m\n",
            "\u001b[33mhint: \u001b[m\n",
            "\u001b[33mhint: Names commonly chosen instead of 'master' are 'main', 'trunk' and\u001b[m\n",
            "\u001b[33mhint: 'development'. The just-created branch can be renamed via this command:\u001b[m\n",
            "\u001b[33mhint: \u001b[m\n",
            "\u001b[33mhint: \tgit branch -m <name>\u001b[m\n",
            "Initialized empty Git repository in /content/.git/\n"
          ]
        }
      ],
      "source": [
        "!git init\n",
        "!git config --global user.name \"Monika\"\n",
        "!git config --global user.email \"morozmarynowska@gmail.com\""
      ]
    },
    {
      "cell_type": "code",
      "source": [
        "!git add ."
      ],
      "metadata": {
        "colab": {
          "base_uri": "https://localhost:8080/"
        },
        "id": "JGRsCFHrNOMN",
        "outputId": "32853f4e-0f88-4b39-e194-f0be1c344d34"
      },
      "execution_count": null,
      "outputs": [
        {
          "output_type": "stream",
          "name": "stdout",
          "text": [
            "On branch master\n",
            "\n",
            "No commits yet\n",
            "\n",
            "Changes to be committed:\n",
            "  (use \"git rm --cached <file>...\" to unstage)\n",
            "\t\u001b[32mnew file:   .config/.last_opt_in_prompt.yaml\u001b[m\n",
            "\t\u001b[32mnew file:   .config/.last_survey_prompt.yaml\u001b[m\n",
            "\t\u001b[32mnew file:   .config/.last_update_check.json\u001b[m\n",
            "\t\u001b[32mnew file:   .config/active_config\u001b[m\n",
            "\t\u001b[32mnew file:   .config/config_sentinel\u001b[m\n",
            "\t\u001b[32mnew file:   .config/configurations/config_default\u001b[m\n",
            "\t\u001b[32mnew file:   .config/default_configs.db\u001b[m\n",
            "\t\u001b[32mnew file:   .config/gce\u001b[m\n",
            "\t\u001b[32mnew file:   .config/hidden_gcloud_config_universe_descriptor_data_cache_configs.db\u001b[m\n",
            "\t\u001b[32mnew file:   .config/logs/2025.02.20/14.23.09.448625.log\u001b[m\n",
            "\t\u001b[32mnew file:   .config/logs/2025.02.20/14.23.42.557542.log\u001b[m\n",
            "\t\u001b[32mnew file:   .config/logs/2025.02.20/14.23.54.466137.log\u001b[m\n",
            "\t\u001b[32mnew file:   .config/logs/2025.02.20/14.23.58.333263.log\u001b[m\n",
            "\t\u001b[32mnew file:   .config/logs/2025.02.20/14.24.10.539232.log\u001b[m\n",
            "\t\u001b[32mnew file:   .config/logs/2025.02.20/14.24.11.360033.log\u001b[m\n",
            "\t\u001b[32mnew file:   sample_data/README.md\u001b[m\n",
            "\t\u001b[32mnew file:   sample_data/anscombe.json\u001b[m\n",
            "\t\u001b[32mnew file:   sample_data/california_housing_test.csv\u001b[m\n",
            "\t\u001b[32mnew file:   sample_data/california_housing_train.csv\u001b[m\n",
            "\t\u001b[32mnew file:   sample_data/mnist_test.csv\u001b[m\n",
            "\t\u001b[32mnew file:   sample_data/mnist_train_small.csv\u001b[m\n",
            "\n"
          ]
        }
      ]
    },
    {
      "cell_type": "code",
      "source": [
        "!git status"
      ],
      "metadata": {
        "id": "ZK6wLRR9Nb-E"
      },
      "execution_count": null,
      "outputs": []
    },
    {
      "cell_type": "code",
      "source": [
        "!git commit -m \"Inicjalizacja projektu\""
      ],
      "metadata": {
        "colab": {
          "base_uri": "https://localhost:8080/"
        },
        "id": "H6ibtTTjNZWi",
        "outputId": "56e63551-057c-4ada-dc0b-994f1aefccd5"
      },
      "execution_count": null,
      "outputs": [
        {
          "output_type": "stream",
          "name": "stdout",
          "text": [
            "[master (root-commit) 265a5aa] Inicjalizacja projektu\n",
            " 21 files changed, 51023 insertions(+)\n",
            " create mode 100644 .config/.last_opt_in_prompt.yaml\n",
            " create mode 100644 .config/.last_survey_prompt.yaml\n",
            " create mode 100644 .config/.last_update_check.json\n",
            " create mode 100644 .config/active_config\n",
            " create mode 100644 .config/config_sentinel\n",
            " create mode 100644 .config/configurations/config_default\n",
            " create mode 100644 .config/default_configs.db\n",
            " create mode 100644 .config/gce\n",
            " create mode 100644 .config/hidden_gcloud_config_universe_descriptor_data_cache_configs.db\n",
            " create mode 100644 .config/logs/2025.02.20/14.23.09.448625.log\n",
            " create mode 100644 .config/logs/2025.02.20/14.23.42.557542.log\n",
            " create mode 100644 .config/logs/2025.02.20/14.23.54.466137.log\n",
            " create mode 100644 .config/logs/2025.02.20/14.23.58.333263.log\n",
            " create mode 100644 .config/logs/2025.02.20/14.24.10.539232.log\n",
            " create mode 100644 .config/logs/2025.02.20/14.24.11.360033.log\n",
            " create mode 100755 sample_data/README.md\n",
            " create mode 100755 sample_data/anscombe.json\n",
            " create mode 100644 sample_data/california_housing_test.csv\n",
            " create mode 100644 sample_data/california_housing_train.csv\n",
            " create mode 100644 sample_data/mnist_test.csv\n",
            " create mode 100644 sample_data/mnist_train_small.csv\n"
          ]
        }
      ]
    },
    {
      "cell_type": "code",
      "source": [
        "!git log"
      ],
      "metadata": {
        "colab": {
          "base_uri": "https://localhost:8080/"
        },
        "id": "GlUXZp7aNS9u",
        "outputId": "5dc9a3c2-13a4-43ca-b3f2-1e78e630b18a"
      },
      "execution_count": null,
      "outputs": [
        {
          "output_type": "stream",
          "name": "stdout",
          "text": [
            "\u001b[33mcommit 265a5aa1986f12faa0418760726a7f9eea23a01d\u001b[m\u001b[33m (\u001b[m\u001b[1;36mHEAD -> \u001b[m\u001b[1;32mmaster\u001b[m\u001b[33m)\u001b[m\n",
            "Author: Monika <morozmarynowska@gmail.com>\n",
            "Date:   Sat Feb 22 05:52:33 2025 +0000\n",
            "\n",
            "    Inicjalizacja projektu\n"
          ]
        }
      ]
    },
    {
      "cell_type": "code",
      "source": [
        "!git branch -M main"
      ],
      "metadata": {
        "id": "MMGm2Wi3N6jo"
      },
      "execution_count": null,
      "outputs": []
    },
    {
      "cell_type": "code",
      "source": [
        "!git log"
      ],
      "metadata": {
        "colab": {
          "base_uri": "https://localhost:8080/"
        },
        "id": "DSxDyCfMN9ox",
        "outputId": "f45a34a4-2459-49e3-e2fe-588fc8ef2ab3"
      },
      "execution_count": null,
      "outputs": [
        {
          "output_type": "stream",
          "name": "stdout",
          "text": [
            "\u001b[33mcommit 265a5aa1986f12faa0418760726a7f9eea23a01d\u001b[m\u001b[33m (\u001b[m\u001b[1;36mHEAD -> \u001b[m\u001b[1;32mmain\u001b[m\u001b[33m)\u001b[m\n",
            "Author: Monika <morozmarynowska@gmail.com>\n",
            "Date:   Sat Feb 22 05:52:33 2025 +0000\n",
            "\n",
            "    Inicjalizacja projektu\n"
          ]
        }
      ]
    },
    {
      "cell_type": "code",
      "source": [
        "!git remote add origin https://<PAT>@github.com/Rozmarynka19/kursAI-test.git"
      ],
      "metadata": {
        "id": "lDkorV2jOnQA"
      },
      "execution_count": null,
      "outputs": []
    },
    {
      "cell_type": "code",
      "source": [
        "!git push -u origin main"
      ],
      "metadata": {
        "colab": {
          "base_uri": "https://localhost:8080/"
        },
        "id": "gt0IYwl9PE8k",
        "outputId": "907c09c4-ad5f-4513-c4f3-cff201a7b77d"
      },
      "execution_count": null,
      "outputs": [
        {
          "output_type": "stream",
          "name": "stdout",
          "text": [
            "Enumerating objects: 28, done.\n",
            "Counting objects:   3% (1/28)\rCounting objects:   7% (2/28)\rCounting objects:  10% (3/28)\rCounting objects:  14% (4/28)\rCounting objects:  17% (5/28)\rCounting objects:  21% (6/28)\rCounting objects:  25% (7/28)\rCounting objects:  28% (8/28)\rCounting objects:  32% (9/28)\rCounting objects:  35% (10/28)\rCounting objects:  39% (11/28)\rCounting objects:  42% (12/28)\rCounting objects:  46% (13/28)\rCounting objects:  50% (14/28)\rCounting objects:  53% (15/28)\rCounting objects:  57% (16/28)\rCounting objects:  60% (17/28)\rCounting objects:  64% (18/28)\rCounting objects:  67% (19/28)\rCounting objects:  71% (20/28)\rCounting objects:  75% (21/28)\rCounting objects:  78% (22/28)\rCounting objects:  82% (23/28)\rCounting objects:  85% (24/28)\rCounting objects:  89% (25/28)\rCounting objects:  92% (26/28)\rCounting objects:  96% (27/28)\rCounting objects: 100% (28/28)\rCounting objects: 100% (28/28), done.\n",
            "Delta compression using up to 2 threads\n",
            "Compressing objects: 100% (21/21), done.\n",
            "Writing objects: 100% (28/28), 8.42 MiB | 1.97 MiB/s, done.\n",
            "Total 28 (delta 5), reused 0 (delta 0), pack-reused 0\n",
            "remote: Resolving deltas: 100% (5/5), done.\u001b[K\n",
            "To https://github.com/Rozmarynka19/kursAI-test.git\n",
            " * [new branch]      main -> main\n",
            "Branch 'main' set up to track remote branch 'main' from 'origin'.\n"
          ]
        }
      ]
    },
    {
      "cell_type": "code",
      "source": [
        "!git status"
      ],
      "metadata": {
        "colab": {
          "base_uri": "https://localhost:8080/"
        },
        "id": "tl3caG1MQyb5",
        "outputId": "7d4fe271-f78e-4137-f8b3-b0870a581e58"
      },
      "execution_count": 2,
      "outputs": [
        {
          "output_type": "stream",
          "name": "stdout",
          "text": [
            "fatal: not a git repository (or any of the parent directories): .git\n"
          ]
        }
      ]
    },
    {
      "cell_type": "code",
      "source": [
        "!git clone https://github.com/Rozmarynka19/kursAI-test.git"
      ],
      "metadata": {
        "colab": {
          "base_uri": "https://localhost:8080/"
        },
        "id": "xKkFzGTGQ6s4",
        "outputId": "68736ffd-e470-4e15-ba8b-bc7a8058cbde"
      },
      "execution_count": 3,
      "outputs": [
        {
          "output_type": "stream",
          "name": "stdout",
          "text": [
            "Cloning into 'kursAI-test'...\n",
            "remote: Enumerating objects: 31, done.\u001b[K\n",
            "remote: Counting objects: 100% (31/31), done.\u001b[K\n",
            "remote: Compressing objects: 100% (18/18), done.\u001b[K\n",
            "remote: Total 31 (delta 5), reused 28 (delta 5), pack-reused 0 (from 0)\u001b[K\n",
            "Receiving objects: 100% (31/31), 8.42 MiB | 20.33 MiB/s, done.\n",
            "Resolving deltas: 100% (5/5), done.\n"
          ]
        }
      ]
    },
    {
      "cell_type": "code",
      "source": [
        "!git status"
      ],
      "metadata": {
        "colab": {
          "base_uri": "https://localhost:8080/"
        },
        "id": "-K9Q-hgqRVO4",
        "outputId": "203bb208-4d52-4750-c4a0-949897d0f5a7"
      },
      "execution_count": 4,
      "outputs": [
        {
          "output_type": "stream",
          "name": "stdout",
          "text": [
            "fatal: not a git repository (or any of the parent directories): .git\n"
          ]
        }
      ]
    },
    {
      "cell_type": "code",
      "source": [
        "!pwd"
      ],
      "metadata": {
        "colab": {
          "base_uri": "https://localhost:8080/"
        },
        "id": "Yx-Q94CbRfA3",
        "outputId": "42c89c2d-7c48-4250-9638-175cd330dabc"
      },
      "execution_count": 5,
      "outputs": [
        {
          "output_type": "stream",
          "name": "stdout",
          "text": [
            "/content\n"
          ]
        }
      ]
    },
    {
      "cell_type": "code",
      "source": [
        "!mv kursAI-test/. ."
      ],
      "metadata": {
        "colab": {
          "base_uri": "https://localhost:8080/"
        },
        "id": "2JIYVt_gRhxe",
        "outputId": "19c9dd83-6522-430d-9be5-d88d59e0d7ff"
      },
      "execution_count": 6,
      "outputs": [
        {
          "output_type": "stream",
          "name": "stdout",
          "text": [
            "mv: cannot move 'kursAI-test/.' to './.': Device or resource busy\n"
          ]
        }
      ]
    },
    {
      "cell_type": "code",
      "source": [
        "!git pull origin"
      ],
      "metadata": {
        "colab": {
          "base_uri": "https://localhost:8080/"
        },
        "id": "rZHfNAkpRn6y",
        "outputId": "aa45eac3-ae50-4979-965b-52222c9d1911"
      },
      "execution_count": 15,
      "outputs": [
        {
          "output_type": "stream",
          "name": "stdout",
          "text": [
            "Already up to date.\n"
          ]
        }
      ]
    },
    {
      "cell_type": "markdown",
      "source": [
        "## Zmienne"
      ],
      "metadata": {
        "id": "_iETeejySxLq"
      }
    },
    {
      "cell_type": "code",
      "source": [],
      "metadata": {
        "id": "TrvWMbqpS0TE"
      },
      "execution_count": null,
      "outputs": []
    }
  ]
}